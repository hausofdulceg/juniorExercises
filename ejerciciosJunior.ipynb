{
 "cells": [
  {
   "cell_type": "code",
   "execution_count": 2,
   "metadata": {},
   "outputs": [
    {
     "name": "stdout",
     "output_type": "stream",
     "text": [
      "Bienvenido! Elige un numero del 1 al 1000 y te dire si es par o impar\n",
      "El numero es impar\n"
     ]
    }
   ],
   "source": [
    "##Odd or even\n",
    "\n",
    "print(\"Bienvenido! Elige un numero del 1 al 1000 y te dire si es par o impar\")\n",
    "\n",
    "num = int(input(\"Favor de ingresar un numero\"))\n",
    "if num % 2 == 0:\n",
    "    print(\"El numero es par\")\n",
    "else:\n",
    "    print(\"El numero es impar\")"
   ]
  },
  {
   "cell_type": "code",
   "execution_count": 3,
   "metadata": {},
   "outputs": [
    {
     "name": "stdout",
     "output_type": "stream",
     "text": [
      "Vamos a crear una historia! ingresa lo que se te solicita\n",
      "Mi mochila gris\n",
      "y mi jetta\n",
      "Son del mismo color\n",
      "cuando me das mi girasol\n",
      "me gusta verla mientras como carne asada\n"
     ]
    }
   ],
   "source": [
    "##Mad libs game\n",
    "\n",
    "print(\"Vamos a crear una historia! ingresa lo que se te solicita\")\n",
    "\n",
    "color = input(\"Ingrese un color\")\n",
    "comida = input(\"Ingrese una comida\")\n",
    "mCarro = input(\"Ingrese una marca/modelo de carro\")\n",
    "flor = input(\"Ingrese una flor\")\n",
    "\n",
    "print(\"Mi mochila \" + color)\n",
    "print(\"y mi \" + mCarro)\n",
    "print(\"Son del mismo color\")\n",
    "print(\"Cuando me das mi \" + flor)\n",
    "print(\"Me gusta verla mientras como \" + comida)"
   ]
  },
  {
   "cell_type": "code",
   "execution_count": 4,
   "metadata": {},
   "outputs": [
    {
     "name": "stdout",
     "output_type": "stream",
     "text": [
      "Dime que estas pensando y contare tus palabras\n",
      "Tu frase tiene 2 palabras\n"
     ]
    }
   ],
   "source": [
    "##Word count\n",
    "\n",
    "print(\"Dime que estas pensando y contare tus palabras\")\n",
    "\n",
    "texto = input(\"Ingrese una frase\")\n",
    "\n",
    "contador = len(texto.split())\n",
    "\n",
    "print(\"Tu frase tiene \" + str(contador) + \" palabras\")"
   ]
  },
  {
   "cell_type": "code",
   "execution_count": null,
   "metadata": {},
   "outputs": [],
   "source": [
    "##Biography info\n",
    "\n",
    "print(\"Te haremos preguntas personales\")\n",
    "\n",
    "nombre = input(\"Ingrese su nombre\")\n",
    "fNacimiento = input(\"Ingrese su fecha de nacimiento con el siguiente formato dd/mm/aaaa\")\n",
    "direccion = input(\"Ingrese su direccion\")\n",
    "metas = input(\"Ingrese su meta de vida\")\n",
    "\n",
    "\n",
    "\n",
    "print(\"Nombre: \" + nombre)\n",
    "print(\"Fecha de nacimiento: \" + fNacimiento)\n",
    "print(\"Direccion: \" + direccion)\n",
    "print(\"Meta de vida: \" + metas)"
   ]
  },
  {
   "cell_type": "code",
   "execution_count": 8,
   "metadata": {},
   "outputs": [
    {
     "name": "stdout",
     "output_type": "stream",
     "text": [
      "Ingresa una frase y te dire su acronimo\n",
      "hmld\n"
     ]
    }
   ],
   "source": [
    "##What's my acronym?\n",
    "\n",
    "print(\"Ingresa una frase y te dire su acronimo\")\n",
    "\n",
    "frase = input(\"Ingrese una frase\")\n",
    "palabras = frase.split(' ')\n",
    "caracteres = ''\n",
    "\n",
    "for palabra in palabras:\n",
    "   caracteres += palabra[0]\n",
    "\n",
    "print(caracteres)"
   ]
  },
  {
   "cell_type": "code",
   "execution_count": null,
   "metadata": {},
   "outputs": [],
   "source": [
    "##Rock, paper, scissors\n",
    "\n",
    "import random\n",
    "\n",
    "\n",
    "choice = [\"piedra\",\"papel\",\"tijeras\"]\n",
    "\n",
    "computer = choice[radint(0,2)]\n",
    "\n",
    "print(\"Vamos a jugar piedra, papel o tijeras\")\n",
    "jugador = input(\"Ingrese su eleccion: \").lower()\n",
    "print(\"Eleccion de la computadora: \" + computer)\n",
    "\n",
    "if jugador == computer:\n",
    "    print(\"Empate\")\n",
    "elif jugador == \"piedra\" and computer == \"papel\":\n",
    "    print(\"Gana la computadora!\")\n",
    "elif jugador == \"piedra\" and computer == \"tijeras\":\n",
    "    print(\"Ganaste!\")\n",
    "elif jugador == \"papel\" and computer == \"piedra\":\n",
    "    print(\"Ganaste!\")\n",
    "elif jugador == \"papel\" and computer == \"tijeras\":\n",
    "    print(\"Gana la computadora!\")\n",
    "elif jugador == \"tijeras\" and computer == \"piedra\":\n",
    "    print(\"Gana la computadora!\")\n",
    "elif jugador == \"tijeras\" and computer == \"papel\":\n",
    "    print(\"Ganaste!\")\n",
    "\n",
    "\n",
    "\n"
   ]
  },
  {
   "cell_type": "code",
   "execution_count": null,
   "metadata": {},
   "outputs": [],
   "source": [
    "##Guess the number\n",
    "\n",
    "print(\"Elige un numero del 1 al 50 y adivinare si estas dentro del rango\")\n",
    "\n",
    "import random\n",
    "\n",
    "from random import randrange\n",
    "\n",
    "num = random.randrange(1,50)\n",
    "opc = input(\"Ingresa un numero del 1 al 50\")\n",
    "\n",
    "while opc != num:\n",
    "    if opc < num:\n",
    "        print(\"Intenta de nuevo\")\n",
    "        opc = int(input(\"Ingrese un numero del 1 al 50\"))\n",
    "    else:\n",
    "        print(\"Intente con un numero mas chico\")\n",
    "        opc = int(input(\"Ingrese un numero del 1 al 50\"))\n",
    "print(\"Adviniaste el numero!\")"
   ]
  },
  {
   "cell_type": "code",
   "execution_count": 4,
   "metadata": {},
   "outputs": [
    {
     "name": "stdout",
     "output_type": "stream",
     "text": [
      "\n",
      "Palindrome checker\n",
      "Tu texto o expresion se lee igual de izquierda a derecha que de derecha a izquierda!\n"
     ]
    }
   ],
   "source": [
    "##Is a palindrome\n",
    "\n",
    "def convertInputString():\n",
    "    rawInput = input(\"\\nPlease enter a word, phrase, or a sentence \\nto check if it is a palindrome: \") \n",
    "    rawString = rawInput.lower() \n",
    "    rawList = list(rawString) \n",
    "    return rawList\n",
    "\n",
    "def stripAnalphabetics(dirtyList): \n",
    "    analphabeticList = [\" \", \"-\", \".\", \",\", \":\", \";\", \"!\", \"?\", \"'\", \"\\\"\"] \n",
    "    for character in analphabeticList: \n",
    "        if character in dirtyList: \n",
    "            dirtyList.remove(character) \n",
    "            return stripAnalphabetics(dirtyList)\n",
    "    return dirtyList \n",
    "\n",
    "def runPalindromeCheck(straightList):\n",
    "    reversedList = straightList[::-1] \n",
    "    if reversedList == straightList: \n",
    "        return \"Tu texto o expresion se lee igual de izquierda a derecha que de derecha a izquierda!\" \n",
    "    else: \n",
    "        return \"Tu texto o expresion NO se lee igual de izquierda a derecha que de derecha a izquierda:(\" \n",
    "\n",
    "def main(): \n",
    "    print(\"\\nPalindrome checker\") \n",
    "    originalList = convertInputString()  \n",
    "    originalList = stripAnalphabetics(originalList) \n",
    "    palindromeCheck = runPalindromeCheck(originalList)\n",
    "    print(palindromeCheck)\n",
    "\n",
    "main() "
   ]
  },
  {
   "cell_type": "code",
   "execution_count": null,
   "metadata": {},
   "outputs": [],
   "source": [
    "##Calculate the tip\n",
    "\n",
    "print(\"Cuanta propina deberias de dar?\")\n",
    "\n",
    "tPersonas = int(input(\"Ingrese total de personas\"))\n",
    "subtotal = int(input(\"Subtotal\"))\n",
    "\n",
    "print(\"Cuenta #1\")\n",
    "print(\"18% de propina es ${} Total: ${}\".format(int(subtotal*0.18),int(subtotal*1.18)))\n",
    "print(\"Cada persona pagaria: \",int((subtotal*1.18)/tPersonas))\n",
    "print(\"Cuenta #2\")\n",
    "print(\"20% de propina es ${} Total: ${}\".format(int(subtotal*0.20),int(subtotal*1.20)))\n",
    "print(\"Cada persona pagaria: \",int((subtotal*1.20)/tPersonas))\n",
    "print(\"Cuenta #3\")\n",
    "print(\"25% de propina es ${} Total: ${}\".format(int(subtotal*0.25),int(subtotal*1.25)))\n",
    "print(\"Cada persona pagaria: \",int((subtotal*1.25)/tPersonas))\n"
   ]
  },
  {
   "cell_type": "code",
   "execution_count": null,
   "metadata": {},
   "outputs": [],
   "source": [
    "##Email Slicer\n",
    "\n",
    "print(\"Adivino tu dominio\")\n",
    "\n",
    "email = input(\"What is your email address?: \").strip()\n",
    "user_name = email[:email.index(\"@\")]\n",
    "domain_name = email[email.index(\"@\")+1:]\n",
    "output = \"Your username is '{}' and your domain name is '{}'\".format(user_name,domain_name)\n",
    "print(output)"
   ]
  },
  {
   "cell_type": "code",
   "execution_count": null,
   "metadata": {},
   "outputs": [],
   "source": [
    "##Lyrics generator\n",
    "\n"
   ]
  }
 ],
 "metadata": {
  "kernelspec": {
   "display_name": "Python 3.11.0 64-bit",
   "language": "python",
   "name": "python3"
  },
  "language_info": {
   "codemirror_mode": {
    "name": "ipython",
    "version": 3
   },
   "file_extension": ".py",
   "mimetype": "text/x-python",
   "name": "python",
   "nbconvert_exporter": "python",
   "pygments_lexer": "ipython3",
   "version": "3.11.0"
  },
  "orig_nbformat": 4,
  "vscode": {
   "interpreter": {
    "hash": "8929d69dd2aa856c88ace6f4472cde7bdb587b8881e1fb63e241d76b1659141a"
   }
  }
 },
 "nbformat": 4,
 "nbformat_minor": 2
}
